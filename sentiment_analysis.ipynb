{
  "cells": [
    {
      "cell_type": "code",
      "execution_count": 60,
      "metadata": {
        "colab": {
          "base_uri": "https://localhost:8080/"
        },
        "id": "_tTf3_1pa7Bs",
        "outputId": "188316db-1aa5-4fbc-bb7a-bf33991038a9"
      },
      "outputs": [
        {
          "name": "stdout",
          "output_type": "stream",
          "text": [
            "fatal: destination path 'sentiment-analysis' already exists and is not an empty directory.\n"
          ]
        }
      ],
      "source": [
        "!git clone https://github.com/Joyce-Yuan/sentiment-analysis.git"
      ]
    },
    {
      "cell_type": "markdown",
      "metadata": {
        "id": "sYCCE7HJ6cBY"
      },
      "source": [
        "# Load the RNN and Transformer Model"
      ]
    },
    {
      "cell_type": "code",
      "execution_count": 61,
      "metadata": {
        "id": "hQScz32n6e2W"
      },
      "outputs": [],
      "source": [
        "import numpy as np\n",
        "import tensorflow as tf\n",
        "from tensorflow import keras\n",
        "from keras.datasets import imdb\n",
        "from keras_preprocessing.sequence import pad_sequences"
      ]
    },
    {
      "cell_type": "code",
      "execution_count": 62,
      "metadata": {
        "id": "zeUOhaoCVUfh"
      },
      "outputs": [],
      "source": [
        "# relevant word -> id and id -> word dictionaries \n",
        "# word -> id\n",
        "word2id = imdb.get_word_index()\n",
        "\n",
        "vocabulary_size = 500\n",
        "start_char = 1\n",
        "oov_char = 2 #out of vocab\n",
        "index_from = 3\n",
        "\n",
        "#id -> word\n",
        "inverted_word_index = dict(\n",
        "    (i + index_from, word) for (word, i) in word2id.items()\n",
        ")\n",
        "inverted_word_index[start_char] = \"[START]\"\n",
        "inverted_word_index[oov_char] = \"[OOV]\""
      ]
    },
    {
      "cell_type": "code",
      "execution_count": 63,
      "metadata": {
        "colab": {
          "base_uri": "https://localhost:8080/"
        },
        "id": "t01uCsPu9j2R",
        "outputId": "aaf793d9-16e3-403b-b9c9-10acb75ff272"
      },
      "outputs": [
        {
          "name": "stdout",
          "output_type": "stream",
          "text": [
            "keras_metadata.pb  saved_model.pb  variables\n",
            "keras_metadata.pb  saved_model.pb  variables\n"
          ]
        }
      ],
      "source": [
        "RNN_LOADPATH = '/content/sentiment-analysis/models/rnn/5000-samples-100-maxlength'\n",
        "TRANSFORMER_LOADPATH = '/content/sentiment-analysis/models/transformer/5000-samples-100-maxlength'\n",
        "!ls $RNN_LOADPATH\n",
        "!ls $TRANSFORMER_LOADPATH"
      ]
    },
    {
      "cell_type": "code",
      "execution_count": 64,
      "metadata": {
        "id": "ifhd2twS-U7F"
      },
      "outputs": [],
      "source": [
        "rnn_model = keras.models.load_model(RNN_LOADPATH)\n",
        "transformer_model = keras.models.load_model(TRANSFORMER_LOADPATH)"
      ]
    },
    {
      "cell_type": "code",
      "execution_count": 65,
      "metadata": {
        "id": "yrnW6WUyI6ok"
      },
      "outputs": [],
      "source": [
        "def make_sentence(data):\n",
        "  '''given an array of word ids, outputs the corresponding sentence'''\n",
        "  return ' '.join([inverted_word_index.get(i, ' ') for i in data])\n",
        "def make_ids(sentence):\n",
        "  '''give a sentence, creates the corresponding array of word ids'''\n",
        "  return [1] + [word2id.get(word, oov_char - index_from)+index_from for word in sentence.split()]"
      ]
    },
    {
      "cell_type": "markdown",
      "metadata": {
        "id": "KkHLd4jmWKdr"
      },
      "source": [
        "# Input Your Movie Reviews\n",
        "Check out wht the RNN and Transformer output for the sentiment of your review. Note, please input movie reviews **without punctuation**"
      ]
    },
    {
      "cell_type": "code",
      "execution_count": 66,
      "metadata": {
        "colab": {
          "base_uri": "https://localhost:8080/"
        },
        "id": "jUj0fUNWV1V0",
        "outputId": "0a398074-660d-47dd-91f3-1e22f2c24de2"
      },
      "outputs": [
        {
          "name": "stdout",
          "output_type": "stream",
          "text": [
            "Enter your review ('quit' to exit): this movie was wonderful and I loved everything about it\n",
            "RNN:  positive :)\n",
            "Transformer:  positive :)\n",
            "Enter your review ('quit' to exit): i absolutely hated this movie it was so boring\n",
            "RNN:  negative :(\n",
            "Transformer:  negative :(\n",
            "Enter your review ('quit' to exit): quit\n",
            "RNN:  negative :(\n",
            "Transformer:  negative :(\n"
          ]
        }
      ],
      "source": [
        "# input sample review\n",
        "review = \"sample reivew\"\n",
        "while review != 'quit':\n",
        "  review = input(\"Enter your review ('quit' to exit): \")\n",
        "  ids = [make_ids(review)]\n",
        "  rnn_output = rnn_model(tf.constant(pad_sequences(ids, maxlen=100), dtype=np.float32))\n",
        "  transformer_output = transformer_model(tf.constant(pad_sequences(ids, maxlen=100), dtype=np.float32))\n",
        "  print(\"RNN: \", \"positive :)\" if rnn_output[0] > 0.5 else \"negative :(\")\n",
        "  print(\"Transformer: \", \"positive :)\" if transformer_output[0] > 0.5 else \"negative :(\")"
      ]
    },
    {
      "cell_type": "code",
      "execution_count": null,
      "metadata": {
        "id": "m7jvF4qyV5V_"
      },
      "outputs": [],
      "source": []
    }
  ],
  "metadata": {
    "colab": {
      "collapsed_sections": [
        "hRauesZHxQKC",
        "Z-gbNfiFz0Tf"
      ],
      "provenance": []
    },
    "kernelspec": {
      "display_name": "Python 3",
      "name": "python3"
    },
    "language_info": {
      "name": "python"
    }
  },
  "nbformat": 4,
  "nbformat_minor": 0
}
